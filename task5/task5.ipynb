{
 "cells": [
  {
   "cell_type": "code",
   "execution_count": 1,
   "id": "948a418b",
   "metadata": {},
   "outputs": [
    {
     "name": "stdout",
     "output_type": "stream",
     "text": [
      "3\n",
      "4\n",
      "5\n",
      "7\n",
      "\n",
      "(1, 1)\n",
      "(3, 3)\n",
      "(4, 2)\n",
      "(5, 2)\n",
      "(7, 3)\n",
      "(2, 1)\n",
      "(9, 1)\n",
      "\n"
     ]
    }
   ],
   "source": [
    "lst=[1,3,4,5,3,7,5,7,3,2,4,7,9]\n",
    "common={}\n",
    "for i in lst:\n",
    "    if i in common:\n",
    "        common[i]+=1\n",
    "    else:\n",
    "        common[i]=1\n",
    "        \n",
    "for key,value in common.items():\n",
    "    if value>1:\n",
    "        print(key)\n",
    "print()\n",
    "\n",
    "for key in common.items():\n",
    "    if value>=1:\n",
    "        print(key)\n",
    "print()"
   ]
  },
  {
   "cell_type": "code",
   "execution_count": 38,
   "id": "1f3b0cba",
   "metadata": {},
   "outputs": [
    {
     "name": "stdout",
     "output_type": "stream",
     "text": [
      "java\n",
      "python\n",
      ".net\n",
      "php\n",
      "\n",
      "('java', 3)\n",
      "('python', 2)\n",
      "('.net', 1)\n",
      "('php', 1)\n",
      "\n"
     ]
    }
   ],
   "source": [
    "lst_1=['java','python','.net','java','php','python','java']\n",
    "common={}\n",
    "for i in lst_1:\n",
    "    if i in common:\n",
    "        common[i]+=1\n",
    "    else:\n",
    "        common[i]=1\n",
    "for key,value in common.items():\n",
    "    if value>=1:\n",
    "        print(key)\n",
    "print()\n",
    "\n",
    "for key in common.items():\n",
    "    if value>=1:\n",
    "        print(key)\n",
    "print()\n",
    "\n"
   ]
  },
  {
   "cell_type": "code",
   "execution_count": 8,
   "id": "b36682d3",
   "metadata": {},
   "outputs": [
    {
     "name": "stdout",
     "output_type": "stream",
     "text": [
      "Even : ['cdzf', 'xyza']\n",
      "Odd : ['abc']\n"
     ]
    }
   ],
   "source": [
    "#Write a program to write even values and odd value strings from a list.\n",
    "\n",
    "list = [\"abc\", \"cdzf\", \"xyza\"]\n",
    "even = []\n",
    "odd = []\n",
    "\n",
    "for item in list:\n",
    "     if len(item)%2==0:\n",
    "            even.append(item)\n",
    "     else:\n",
    "         odd.append(item)\n",
    "\n",
    "print(f\"Even : {even}\")\n",
    "print(f\"Odd : {odd}\")\n"
   ]
  },
  {
   "cell_type": "code",
   "execution_count": 10,
   "id": "ea87f9c4",
   "metadata": {},
   "outputs": [
    {
     "name": "stdout",
     "output_type": "stream",
     "text": [
      "['s', 't', 'r', 'i', 'n', 'g', 'v', 'i', 's', 'i', 'o', 'n', 't', 'r', 'e', 'k', 'c', 'o', 'm', 'm', 'u', 'n', 'i', 'c', 'a', 't', 'i', 'o', 'n', 's']\n"
     ]
    }
   ],
   "source": [
    "# Write a program to print an output.\n",
    "\n",
    "list = [\"string\", \"vision\", \"trek\", \"communications\"]\n",
    "output = []\n",
    "for word in list:\n",
    "     for char in word:\n",
    "         output.append(char)\n",
    "\n",
    "print(output)\n",
    "    "
   ]
  },
  {
   "cell_type": "code",
   "execution_count": 11,
   "id": "ae4d173c",
   "metadata": {},
   "outputs": [
    {
     "name": "stdout",
     "output_type": "stream",
     "text": [
      "Enter a number : 3\n",
      "3\n",
      "13\n",
      "33\n"
     ]
    }
   ],
   "source": [
    "#Write a program to give input eg for 7 -> 7, 17, 37, 67, 107, 157\n",
    "\n",
    "num = int(input(\"Enter a number : \"))\n",
    "add = 0\n",
    "for i in range(0, num):\n",
    "     num+=add\n",
    "     add+=10\n",
    "     print(num)\n"
   ]
  },
  {
   "cell_type": "code",
   "execution_count": null,
   "id": "ef03b8ab",
   "metadata": {},
   "outputs": [],
   "source": [
    "#Write a program to reverse a string or number.\n",
    "\n",
    "text = str(input(\"Enter the number : \"))\n",
    "text_list = []\n",
    "reversed = []\n",
    "i = len(text)-1\n",
    "for j in range(0, len(text)):\n",
    "     reversed.append(text[i])\n",
    "     i-=1\n",
    "\n",
    "print(''.join(reversed))"
   ]
  },
  {
   "cell_type": "code",
   "execution_count": null,
   "id": "e69a348c",
   "metadata": {},
   "outputs": [],
   "source": [
    "#Write a program to add two lists into a dictionary.\n",
    "\n",
    "list = ['key', 'key2', 'key3']\n",
    "list2 = [1, 'abc', 3]\n",
    "\n",
    "dict1 = {}\n",
    "\n",
    "for i in range(0, len(list)):\n",
    "     dict1[list[i]] = list2[i]\n",
    "\n",
    "print(dict1)\n"
   ]
  },
  {
   "cell_type": "code",
   "execution_count": 4,
   "id": "c71c75e0",
   "metadata": {},
   "outputs": [
    {
     "name": "stdout",
     "output_type": "stream",
     "text": [
      "First two largest and smallest elements are :-  \n",
      "(88, 99, 2, 2)\n"
     ]
    }
   ],
   "source": [
    "# Find the two max and two min from the list.\n",
    "\n",
    "def find_smallest_largest(arr):\n",
    "    secondLargest = arr[0]\n",
    "    largest = arr[0]\n",
    "    smallest = arr[0]\n",
    "    secondSmallest = arr[0]\n",
    "\n",
    "    for i in range(len(arr)):\n",
    "        if arr[i] > largest:\n",
    "            largest = arr[i]\n",
    "\n",
    "    for i in range(len(arr)):\n",
    "        if arr[i] > secondLargest and arr[i] != largest:\n",
    "            secondLargest = arr[i]\n",
    "            \n",
    "            \n",
    "    \n",
    "    for i in range(len(arr)):\n",
    "        if arr[i] < smallest:\n",
    "            smallest = arr[i]\n",
    "            \n",
    "    for i in range(len(arr)):\n",
    "        if arr[i] < secondSmallest and arr[i] != smallest:\n",
    "            secondSmallest = arr[i]\n",
    "            \n",
    "    return secondLargest,largest,smallest,secondSmallest\n",
    "\n",
    "print(\"First two largest and smallest elements are :-  \")\n",
    "print(find_smallest_largest([2,2,7,88,6,78,75,99]))\n",
    "\n"
   ]
  },
  {
   "cell_type": "code",
   "execution_count": null,
   "id": "d9b09b48",
   "metadata": {},
   "outputs": [],
   "source": []
  },
  {
   "cell_type": "code",
   "execution_count": null,
   "id": "22316ce5",
   "metadata": {},
   "outputs": [],
   "source": []
  }
 ],
 "metadata": {
  "kernelspec": {
   "display_name": "Python 3 (ipykernel)",
   "language": "python",
   "name": "python3"
  },
  "language_info": {
   "codemirror_mode": {
    "name": "ipython",
    "version": 3
   },
   "file_extension": ".py",
   "mimetype": "text/x-python",
   "name": "python",
   "nbconvert_exporter": "python",
   "pygments_lexer": "ipython3",
   "version": "3.9.12"
  }
 },
 "nbformat": 4,
 "nbformat_minor": 5
}
