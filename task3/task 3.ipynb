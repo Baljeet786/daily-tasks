{
 "cells": [
  {
   "cell_type": "code",
   "execution_count": 24,
   "id": "04038c0f",
   "metadata": {},
   "outputs": [
    {
     "name": "stdout",
     "output_type": "stream",
     "text": [
      "\n",
      "55 15\n",
      "hi guys this is me..\n"
     ]
    }
   ],
   "source": [
    "#global variable\n",
    "\n",
    "a=5\n",
    "\n",
    "def function(n):\n",
    "    #a=10     #local variable\n",
    "    b=15\n",
    "    global a\n",
    "    a=a+50\n",
    "    print(a,b)\n",
    "    print(n,\"this is me..\")\n",
    "print()\n",
    "function(\"hi guys\")"
   ]
  },
  {
   "cell_type": "code",
   "execution_count": 28,
   "id": "b8b41057",
   "metadata": {},
   "outputs": [
    {
     "name": "stdout",
     "output_type": "stream",
     "text": [
      "3.3333333333333335\n",
      "<class 'float'>\n",
      "xyzsjgsghhk\n",
      "<class 'str'>\n",
      "5.567\n"
     ]
    }
   ],
   "source": [
    "#impicit conversion\n",
    "a=10\n",
    "b=3\n",
    "x=a/b\n",
    "print(x)\n",
    "print(type(x))\n",
    "\n",
    "a=\"xyz\"\n",
    "b=\"sjgsghhk\"\n",
    "x=a+b\n",
    "print(x)\n",
    "print(type(x))\n",
    "\n",
    "a=2.567\n",
    "b=3\n",
    "x=a+b\n",
    "print(x)\n",
    "\n",
    "\n",
    "\n",
    "\n"
   ]
  },
  {
   "cell_type": "code",
   "execution_count": 36,
   "id": "1523a074",
   "metadata": {},
   "outputs": [
    {
     "name": "stdout",
     "output_type": "stream",
     "text": [
      "<class 'float'>\n",
      "3\n"
     ]
    }
   ],
   "source": [
    "#emplicit conversion\n",
    "\n",
    "a=20\n",
    "b=6\n",
    "x=a/b\n",
    "print(type(x))\n",
    "int_x=int(x)\n",
    "print(int_x)"
   ]
  },
  {
   "cell_type": "code",
   "execution_count": 46,
   "id": "59419e03",
   "metadata": {},
   "outputs": [
    {
     "name": "stdout",
     "output_type": "stream",
     "text": [
      "87\n",
      "93\n"
     ]
    }
   ],
   "source": [
    "#__init__function   #self function\n",
    "\n",
    "class school:\n",
    "    def __init__(self,Eng,Sci):\n",
    "        self.Eng=Eng\n",
    "        self.Sci=Sci\n",
    "c1=school(87,93)\n",
    "print(c1.Eng)\n",
    "print(c1.Sci)\n",
    "        \n",
    "    \n"
   ]
  },
  {
   "cell_type": "code",
   "execution_count": 23,
   "id": "94bbb051",
   "metadata": {},
   "outputs": [
    {
     "data": {
      "text/plain": [
       "11"
      ]
     },
     "execution_count": 23,
     "metadata": {},
     "output_type": "execute_result"
    }
   ],
   "source": [
    "#lambda Function \n",
    "\n",
    "var=lambda x,y: x+y\n",
    "var(3,8)"
   ]
  },
  {
   "cell_type": "code",
   "execution_count": 15,
   "id": "aa53ca22",
   "metadata": {
    "scrolled": true
   },
   "outputs": [
    {
     "name": "stdout",
     "output_type": "stream",
     "text": [
      "133143 The Highest value\n",
      "1 The Lowest number\n"
     ]
    }
   ],
   "source": [
    "#break \n",
    "\n",
    "var=(1,3,5,6,7,9000,123,5,67,89,3.3,5,78,9,133143,7769)\n",
    "for i in var:\n",
    "    print(max(var),\"The Highest value\")\n",
    "    break\n",
    "for i in var:\n",
    "    print(min(var),\"The Lowest number\")\n",
    "    break\n",
    "    \n",
    "    "
   ]
  },
  {
   "cell_type": "code",
   "execution_count": 18,
   "id": "eec44418",
   "metadata": {},
   "outputs": [
    {
     "name": "stdout",
     "output_type": "stream",
     "text": [
      "1 2 3 4 5 7 8 9 "
     ]
    }
   ],
   "source": [
    "#continue statement\n",
    "for i in range(1,10):\n",
    "    if i==6:\n",
    "        continue\n",
    "    else:\n",
    "        print(i,end=\" \")"
   ]
  },
  {
   "cell_type": "code",
   "execution_count": 26,
   "id": "2c53b7dc",
   "metadata": {},
   "outputs": [
    {
     "name": "stdout",
     "output_type": "stream",
     "text": [
      "1 2 3 4 5 6 7 8 "
     ]
    }
   ],
   "source": [
    "#pass \n",
    "for i in range(1,10):\n",
    "    if i==9:\n",
    "        pass\n",
    "    else:\n",
    "        print(i,end=\" \")"
   ]
  },
  {
   "cell_type": "code",
   "execution_count": 29,
   "id": "5ea105a2",
   "metadata": {},
   "outputs": [
    {
     "name": "stdout",
     "output_type": "stream",
     "text": [
      "yob doog a si ivaN\n"
     ]
    }
   ],
   "source": [
    "#[::-1]\n",
    "str=\"Navi is a good boy\"\n",
    "print(str[::-1])\n"
   ]
  },
  {
   "cell_type": "code",
   "execution_count": 1,
   "id": "1d94c311",
   "metadata": {},
   "outputs": [
    {
     "name": "stdout",
     "output_type": "stream",
     "text": [
      "6\n",
      "Delhi Is The Capital Of India\n"
     ]
    }
   ],
   "source": [
    "#empty class\n",
    "\n",
    "#class employee():\n",
    "    \n",
    "    \n",
    "#difference between list and tuple\n",
    "\n",
    "#list=list is mutable \n",
    "\n",
    "#list=[]\n",
    "\n",
    "\n",
    "#tuple= it is immutable.\n",
    "#tu=()\n",
    "\n",
    "#Gen random numbers in python\n",
    "\n",
    "import random\n",
    "print(random.randint(0,9))\n",
    "        \n",
    "        \n",
    "#capatalised the first letter of string\n",
    "\n",
    "str=\"delhi is the capital of India\"\n",
    "str=str.title()\n",
    "print(str)\n",
    "\n",
    "\n"
   ]
  },
  {
   "cell_type": "code",
   "execution_count": 4,
   "id": "8e69945d",
   "metadata": {
    "scrolled": true
   },
   "outputs": [
    {
     "name": "stdout",
     "output_type": "stream",
     "text": [
      "False\n",
      "True\n",
      "True\n",
      "not returned true\n"
     ]
    }
   ],
   "source": [
    "#is operator \n",
    "#1.To compare the memory location of two objects.\n",
    "#when it same then it return \"true\" otherwise \"false\"\n",
    "#ex1\n",
    "a=10\n",
    "b=10\n",
    "a is b\n",
    "\n",
    "#ex 2\n",
    "a=10\n",
    "b='10'\n",
    "a is b\n",
    "\n",
    "\n",
    "#in operator\n",
    "#check an element is found .\n",
    "Garage=[\"Bike\",\"Car\",\"Bus\",\"Truck\"]\n",
    "print(\"Cycle\" in Garage)\n",
    "print(\"Bike\" in Garage)\n",
    "print(\"Bus\" in Garage)\n",
    "\n",
    "\n",
    "\n",
    "#not operator\n",
    "#return true if they return flase value.\n",
    "#return false if they return true value.\n",
    "x=10\n",
    "if not x>10:\n",
    "    print(\"not returned true\")\n",
    "else:\n",
    "    print(\"not returned false\")\n",
    "\n",
    "\n",
    "\n",
    "\n",
    "\n"
   ]
  },
  {
   "cell_type": "code",
   "execution_count": 68,
   "id": "89677cb2",
   "metadata": {},
   "outputs": [
    {
     "name": "stdout",
     "output_type": "stream",
     "text": [
      "4\n",
      "7\n",
      "2\n",
      "1\n"
     ]
    }
   ],
   "source": [
    "#iterators-object that contains a sequence or countable values.\n",
    "\n",
    "my_list=[4,7,2,1]\n",
    "#get an iterator using iter()\n",
    "my_iter=iter(my_list) \n",
    "print(next(my_iter))\n",
    "print(next(my_iter))\n",
    "print(next(my_iter))\n",
    "print(next(my_iter))\n",
    "\n",
    "\n",
    "\n"
   ]
  },
  {
   "cell_type": "code",
   "execution_count": 2,
   "id": "d34a2163",
   "metadata": {},
   "outputs": [
    {
     "name": "stdout",
     "output_type": "stream",
     "text": [
      "('Amar', 90)\n",
      "('Deepak', 60)\n",
      "('Navi', 99)\n"
     ]
    }
   ],
   "source": [
    "#iterable - capable of returning its member at one time.\n",
    "\n",
    "names=[(\"Amar\",90),(\"Deepak\",60),(\"Navi\",99)]\n",
    "for entry in names:\n",
    "    print(entry)"
   ]
  },
  {
   "cell_type": "code",
   "execution_count": 12,
   "id": "457acadb",
   "metadata": {},
   "outputs": [
    {
     "name": "stdout",
     "output_type": "stream",
     "text": [
      "(1, 3, 5)\n",
      "(1,)\n"
     ]
    }
   ],
   "source": [
    "#negative index-pick values from the right side \n",
    "\n",
    "l=(1,3,5,7,8)\n",
    "print(l[0:-2])\n",
    "print(l[0:-4])"
   ]
  },
  {
   "cell_type": "code",
   "execution_count": 13,
   "id": "c7b85f47",
   "metadata": {},
   "outputs": [
    {
     "name": "stdout",
     "output_type": "stream",
     "text": [
      "reshuffled.l:  [9, 5, 4, 7, 12]\n"
     ]
    }
   ],
   "source": [
    "#randomize the items of a list in place in Python\n",
    "import random\n",
    "l=[12,4,7,9,5]\n",
    "random.shuffle(l)\n",
    "print(\"reshuffled.l: \",l)\n",
    "\n"
   ]
  },
  {
   "cell_type": "code",
   "execution_count": 9,
   "id": "b7dcf324",
   "metadata": {},
   "outputs": [
    {
     "name": "stdout",
     "output_type": "stream",
     "text": [
      "How many terms? 8\n",
      "The total terms are: 8\n",
      "2 raised to power 0 is 1\n",
      "2 raised to power 1 is 2\n",
      "2 raised to power 2 is 4\n",
      "2 raised to power 3 is 8\n",
      "2 raised to power 4 is 16\n",
      "2 raised to power 5 is 32\n",
      "2 raised to power 6 is 64\n",
      "2 raised to power 7 is 128\n"
     ]
    }
   ],
   "source": [
    "\n",
    "\n",
    "\n",
    "# Display the powers of 2 using anonymous function\n",
    "\n",
    "\n",
    "# Uncomment code below to take input from the user\n",
    "terms = int(input(\"How many terms? \"))\n",
    "\n",
    "# use anonymous function\n",
    "result = list(map(lambda x: 2 ** x, range(terms)))\n",
    "\n",
    "print(\"The total terms are:\",terms)\n",
    "for i in range(terms):\n",
    "    print(\"2 raised to power\",i,\"is\",result[i])\n",
    "\n",
    "\n",
    "\n",
    "\n"
   ]
  },
  {
   "cell_type": "code",
   "execution_count": null,
   "id": "54f7a733",
   "metadata": {},
   "outputs": [],
   "source": []
  },
  {
   "cell_type": "code",
   "execution_count": null,
   "id": "d5987319",
   "metadata": {},
   "outputs": [],
   "source": []
  }
 ],
 "metadata": {
  "kernelspec": {
   "display_name": "Python 3 (ipykernel)",
   "language": "python",
   "name": "python3"
  },
  "language_info": {
   "codemirror_mode": {
    "name": "ipython",
    "version": 3
   },
   "file_extension": ".py",
   "mimetype": "text/x-python",
   "name": "python",
   "nbconvert_exporter": "python",
   "pygments_lexer": "ipython3",
   "version": "3.9.12"
  }
 },
 "nbformat": 4,
 "nbformat_minor": 5
}
