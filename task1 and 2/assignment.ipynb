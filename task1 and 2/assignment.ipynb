{
 "cells": [
  {
   "cell_type": "code",
   "execution_count": null,
   "id": "52cf9811",
   "metadata": {},
   "outputs": [],
   "source": []
  },
  {
   "cell_type": "code",
   "execution_count": 1,
   "id": "1c2d27eb",
   "metadata": {},
   "outputs": [
    {
     "name": "stdout",
     "output_type": "stream",
     "text": [
      "{'g': 2, 'o': 3, 'l': 1, 'e': 1, '.': 1, 'c': 1, 'm': 1}\n"
     ]
    }
   ],
   "source": [
    "def char_frequency(str):\n",
    "    dict={}\n",
    "    for n in str:\n",
    "        keys=dict.keys()\n",
    "        if n in keys:\n",
    "            dict[n]+=1\n",
    "        else:\n",
    "            dict[n]=1\n",
    "    return dict\n",
    "print(char_frequency('google.com'))\n",
    "    "
   ]
  },
  {
   "cell_type": "code",
   "execution_count": 31,
   "id": "5bc4dd4c",
   "metadata": {},
   "outputs": [
    {
     "name": "stdout",
     "output_type": "stream",
     "text": [
      "abz\n",
      "xyc\n"
     ]
    }
   ],
   "source": [
    "A2,A1=\"abc\",\"xyz\"\n",
    "T=A2\n",
    "A2=A1[0:2]+A2[2:]\n",
    "A1=T[0:2]+A1[2:]\n",
    "print(A1)\n",
    "print(A2)\n",
    "\n"
   ]
  },
  {
   "cell_type": "code",
   "execution_count": null,
   "id": "29c663ae",
   "metadata": {},
   "outputs": [],
   "source": [
    "\n",
    "        \n",
    "    "
   ]
  },
  {
   "cell_type": "code",
   "execution_count": 12,
   "id": "a30e384b",
   "metadata": {},
   "outputs": [
    {
     "name": "stdout",
     "output_type": "stream",
     "text": [
      "{'a': 400, 'b': 400, 'c': 700}\n"
     ]
    }
   ],
   "source": [
    "d1 = {'a': 100, 'b': 200, 'c':300}\n",
    "d2 = {'a': 300, 'b': 200, 'c':400}\n",
    "for key in d2:\n",
    "    if key in d2:\n",
    "        d2[key]=d2[key]+d1[key]\n",
    "    else:\n",
    "        pass\n",
    "print(d2)\n",
    "\n",
    "\n"
   ]
  },
  {
   "cell_type": "code",
   "execution_count": 3,
   "id": "742d6fa6",
   "metadata": {},
   "outputs": [
    {
     "name": "stdout",
     "output_type": "stream",
     "text": [
      "(3,6)=9\n",
      "(4,5)=9\n",
      "(1,8)=9\n",
      "(2,7)=9\n"
     ]
    }
   ],
   "source": [
    "numbers=(3,4,5,6,1,2,7,9,8)\n",
    "n=9\n",
    "for i in range(len(numbers)-1):\n",
    "    for j in range(i+1,len(numbers)):\n",
    "        a=numbers[i]\n",
    "        b=numbers[j]\n",
    "        if a+b==n:\n",
    "            print(f\"({a},{b})={n}\")"
   ]
  },
  {
   "cell_type": "code",
   "execution_count": 2,
   "id": "11ec77cf",
   "metadata": {},
   "outputs": [
    {
     "name": "stdout",
     "output_type": "stream",
     "text": [
      "e s y k \n",
      "s : is the max repeated value."
     ]
    }
   ],
   "source": [
    "str=\"genrosysweeklytasks\"\n",
    "repeated={}\n",
    "for char in str:\n",
    "    if char in repeated:\n",
    "        repeated[char]+=1\n",
    "    else:\n",
    "        repeated[char]=1\n",
    "for key, value in repeated.items():\n",
    "    if value>1:\n",
    "        print(key,end=\" \")\n",
    "print()\n",
    "for key,value in repeated.items():\n",
    "    if value>=4:\n",
    "        print(key,end=\" : is the max repeated value.\")\n",
    "        "
   ]
  },
  {
   "cell_type": "code",
   "execution_count": null,
   "id": "cf6dd1cd",
   "metadata": {},
   "outputs": [],
   "source": []
  },
  {
   "cell_type": "code",
   "execution_count": null,
   "id": "19a08565",
   "metadata": {},
   "outputs": [],
   "source": [
    "\n"
   ]
  },
  {
   "cell_type": "code",
   "execution_count": null,
   "id": "db61f985",
   "metadata": {},
   "outputs": [],
   "source": []
  },
  {
   "cell_type": "code",
   "execution_count": null,
   "id": "080c76bf",
   "metadata": {},
   "outputs": [],
   "source": []
  },
  {
   "cell_type": "code",
   "execution_count": null,
   "id": "dcccee22",
   "metadata": {},
   "outputs": [],
   "source": []
  },
  {
   "cell_type": "code",
   "execution_count": null,
   "id": "6e0359ab",
   "metadata": {},
   "outputs": [],
   "source": []
  },
  {
   "cell_type": "code",
   "execution_count": null,
   "id": "2b397dad",
   "metadata": {},
   "outputs": [],
   "source": []
  },
  {
   "cell_type": "code",
   "execution_count": null,
   "id": "c891c4af",
   "metadata": {},
   "outputs": [],
   "source": []
  }
 ],
 "metadata": {
  "kernelspec": {
   "display_name": "Python 3 (ipykernel)",
   "language": "python",
   "name": "python3"
  },
  "language_info": {
   "codemirror_mode": {
    "name": "ipython",
    "version": 3
   },
   "file_extension": ".py",
   "mimetype": "text/x-python",
   "name": "python",
   "nbconvert_exporter": "python",
   "pygments_lexer": "ipython3",
   "version": "3.9.12"
  }
 },
 "nbformat": 4,
 "nbformat_minor": 5
}
